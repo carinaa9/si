{
 "cells": [
  {
   "cell_type": "code",
   "execution_count": null,
   "metadata": {},
   "outputs": [],
   "source": [
    "# -*- coding: utf-8 -*-"
   ]
  },
  {
   "attachments": {},
   "cell_type": "markdown",
   "metadata": {},
   "source": [
    "## Aula 8\n",
    "\n",
    "KMer para nucleótidos e KMer para composição peptídica"
   ]
  },
  {
   "attachments": {},
   "cell_type": "markdown",
   "metadata": {},
   "source": [
    "#### KMer para sequências de nucleótidos:\n",
    "\n",
    "1. Usa o dataset tfbs.csv . Inspeciona o conteúdo do dataset\n",
    "2. Usa o KMer para obter a frequência de cada substring em cada sequência do dataset Tamanho da substring (k): 3\n",
    "3. Usa o sklearn.preprocessing.StandardScaler para standardizar o dataset da composição nucleotídica .\n",
    "        dataset .X = StandardScaler fit_transform dataset .X\n",
    "4. Divide o dataset em treino e teste.\n",
    "5. Treina o modelo LogisticRegression no dataset de composição nucleotídica\n",
    "6. Qual o score obtido?"
   ]
  },
  {
   "cell_type": "code",
   "execution_count": 1,
   "metadata": {},
   "outputs": [],
   "source": [
    "import numpy as np\n",
    "import os\n",
    "import sys\n",
    "sys.path.insert(0, os.path.abspath(os.path.join(os.path.dirname('C:/Users/Asus/si/src/si'), '..')))\n",
    "\n",
    "from src.si.io.csv import read_csv\n",
    "from src.si.neighbors.knn_regressor import KNNRegressor\n",
    "from src.si.model_selection.split import train_test_split\n"
   ]
  },
  {
   "cell_type": "code",
   "execution_count": 2,
   "metadata": {},
   "outputs": [
    {
     "data": {
      "text/html": [
       "<div>\n",
       "<style scoped>\n",
       "    .dataframe tbody tr th:only-of-type {\n",
       "        vertical-align: middle;\n",
       "    }\n",
       "\n",
       "    .dataframe tbody tr th {\n",
       "        vertical-align: top;\n",
       "    }\n",
       "\n",
       "    .dataframe thead th {\n",
       "        text-align: right;\n",
       "    }\n",
       "</style>\n",
       "<table border=\"1\" class=\"dataframe\">\n",
       "  <thead>\n",
       "    <tr style=\"text-align: right;\">\n",
       "      <th></th>\n",
       "      <th>sequence</th>\n",
       "    </tr>\n",
       "  </thead>\n",
       "  <tbody>\n",
       "    <tr>\n",
       "      <th>0</th>\n",
       "      <td>CCGAGGGCTATGGTTTGGAAGTTAGAACCCTGGGGCTTCTCGCGGA...</td>\n",
       "    </tr>\n",
       "    <tr>\n",
       "      <th>0</th>\n",
       "      <td>GAGTTTATATGGCGCGAGCCTAGTGGTTTTTGTACTTGTTTGTCGC...</td>\n",
       "    </tr>\n",
       "    <tr>\n",
       "      <th>0</th>\n",
       "      <td>GATCAGTAGGGAAACAAACAGAGGGCCCAGCCACATCTAGCAGGTA...</td>\n",
       "    </tr>\n",
       "    <tr>\n",
       "      <th>1</th>\n",
       "      <td>GTCCACGACCGAACTCCCACCTTGACCGCAGAGGTACCACCAGAGC...</td>\n",
       "    </tr>\n",
       "    <tr>\n",
       "      <th>1</th>\n",
       "      <td>GGCGACCGAACTCCAACTAGAACCTGCATAACTGGCCTGGGAGATA...</td>\n",
       "    </tr>\n",
       "    <tr>\n",
       "      <th>...</th>\n",
       "      <td>...</td>\n",
       "    </tr>\n",
       "    <tr>\n",
       "      <th>0</th>\n",
       "      <td>GTCGCGCGGGTGCGGAGGATGAGTCGCAGACGCATTTATGTCGCCC...</td>\n",
       "    </tr>\n",
       "    <tr>\n",
       "      <th>1</th>\n",
       "      <td>GTTCGCAGCGTATTGAGTAATGTTTGACTCGACCGAACTCCATATT...</td>\n",
       "    </tr>\n",
       "    <tr>\n",
       "      <th>0</th>\n",
       "      <td>ACTCGCTGTCCACGTCTATTCCTAGGGGTTTTATTTCGCAAGGTGA...</td>\n",
       "    </tr>\n",
       "    <tr>\n",
       "      <th>1</th>\n",
       "      <td>TGCAAAGGGGCGACCGAACTCCCTTTACCGCGGAGTTATTCATAAT...</td>\n",
       "    </tr>\n",
       "    <tr>\n",
       "      <th>1</th>\n",
       "      <td>AATGTCGACCGAACTCCGCACTGCTGGCCCGGGCCTATATCGAGAG...</td>\n",
       "    </tr>\n",
       "  </tbody>\n",
       "</table>\n",
       "<p>2000 rows × 1 columns</p>\n",
       "</div>"
      ],
      "text/plain": [
       "                                             sequence\n",
       "0   CCGAGGGCTATGGTTTGGAAGTTAGAACCCTGGGGCTTCTCGCGGA...\n",
       "0   GAGTTTATATGGCGCGAGCCTAGTGGTTTTTGTACTTGTTTGTCGC...\n",
       "0   GATCAGTAGGGAAACAAACAGAGGGCCCAGCCACATCTAGCAGGTA...\n",
       "1   GTCCACGACCGAACTCCCACCTTGACCGCAGAGGTACCACCAGAGC...\n",
       "1   GGCGACCGAACTCCAACTAGAACCTGCATAACTGGCCTGGGAGATA...\n",
       "..                                                ...\n",
       "0   GTCGCGCGGGTGCGGAGGATGAGTCGCAGACGCATTTATGTCGCCC...\n",
       "1   GTTCGCAGCGTATTGAGTAATGTTTGACTCGACCGAACTCCATATT...\n",
       "0   ACTCGCTGTCCACGTCTATTCCTAGGGGTTTTATTTCGCAAGGTGA...\n",
       "1   TGCAAAGGGGCGACCGAACTCCCTTTACCGCGGAGTTATTCATAAT...\n",
       "1   AATGTCGACCGAACTCCGCACTGCTGGCCCGGGCCTATATCGAGAG...\n",
       "\n",
       "[2000 rows x 1 columns]"
      ]
     },
     "execution_count": 2,
     "metadata": {},
     "output_type": "execute_result"
    }
   ],
   "source": [
    "# importar o dataset\n",
    "\n",
    "dataset = 'C:/Users/Asus/si/datasets/tfbs.csv'\n",
    "\n",
    "# ler dataset com read csv\n",
    "\n",
    "data = read_csv(dataset, sep=\",\", label=True, features=True)\n",
    "data.print_dataframe()"
   ]
  },
  {
   "cell_type": "code",
   "execution_count": null,
   "metadata": {},
   "outputs": [],
   "source": []
  },
  {
   "cell_type": "code",
   "execution_count": null,
   "metadata": {},
   "outputs": [],
   "source": []
  },
  {
   "attachments": {},
   "cell_type": "markdown",
   "metadata": {},
   "source": [
    "#### 9.2) Testa o novo KMer para sequências de aminoácidos:\n",
    "\n",
    "1. Usa o dataset transporters.csv . Inspeciona o conteúdo do dataset\n",
    "2. Usa o KMer para obter a frequência de cada substring em cada sequência do dataset . Tamanho da substring (k): 2\n",
    "3. Usa o sklearn.preprocessing.StandardScaler para standardizar o dataset da\n",
    "composição pepetídica .\n",
    "        dataset.X = StandardScaler fit_transform dataset.X\n",
    "4. Divide o dataset em treino e teste.\n",
    "5. Treina o modelo LogisticRegression no dataset de composição pepetídica\n",
    "6. Qual o score obtido?"
   ]
  },
  {
   "cell_type": "code",
   "execution_count": 3,
   "metadata": {},
   "outputs": [
    {
     "data": {
      "text/html": [
       "<div>\n",
       "<style scoped>\n",
       "    .dataframe tbody tr th:only-of-type {\n",
       "        vertical-align: middle;\n",
       "    }\n",
       "\n",
       "    .dataframe tbody tr th {\n",
       "        vertical-align: top;\n",
       "    }\n",
       "\n",
       "    .dataframe thead th {\n",
       "        text-align: right;\n",
       "    }\n",
       "</style>\n",
       "<table border=\"1\" class=\"dataframe\">\n",
       "  <thead>\n",
       "    <tr style=\"text-align: right;\">\n",
       "      <th></th>\n",
       "      <th>Sequence</th>\n",
       "    </tr>\n",
       "  </thead>\n",
       "  <tbody>\n",
       "    <tr>\n",
       "      <th>1</th>\n",
       "      <td>MKKTLIALSVSAAAMATGVNAAELYNQDGTSLEMGGRAEARLSMKD...</td>\n",
       "    </tr>\n",
       "    <tr>\n",
       "      <th>0</th>\n",
       "      <td>MRIGVYVCHCGLNIAGVIDVSALEEMAGELEDVVLAREVQFLCSDS...</td>\n",
       "    </tr>\n",
       "    <tr>\n",
       "      <th>1</th>\n",
       "      <td>MELKNKKLSLWEAVSMAVGVMIGASIFSIFGVGAKIAGRNLPETFI...</td>\n",
       "    </tr>\n",
       "    <tr>\n",
       "      <th>0</th>\n",
       "      <td>MHLPSLSVALALVSSSLALPQAVLPENDVSSRAAAVKEAFSHAWDG...</td>\n",
       "    </tr>\n",
       "    <tr>\n",
       "      <th>0</th>\n",
       "      <td>MEELVGLREGFSGDPVTLQELWGPCPHIRRAIQGGLEWLKQKVFRL...</td>\n",
       "    </tr>\n",
       "    <tr>\n",
       "      <th>...</th>\n",
       "      <td>...</td>\n",
       "    </tr>\n",
       "    <tr>\n",
       "      <th>0</th>\n",
       "      <td>MKIKDALIKAYSVLKETNDEFYMEDSQILLSYVLKKDRIFLITNRE...</td>\n",
       "    </tr>\n",
       "    <tr>\n",
       "      <th>1</th>\n",
       "      <td>MSIATIVPENAVIGQAVNIRSMETDIVSLDDRLLQAFSGSAIATAV...</td>\n",
       "    </tr>\n",
       "    <tr>\n",
       "      <th>1</th>\n",
       "      <td>MTAYIQRSQCISTSLLVVLTTLVSCQIPRDRLSNIGVIVDEGKSLK...</td>\n",
       "    </tr>\n",
       "    <tr>\n",
       "      <th>1</th>\n",
       "      <td>MTEASEINLSDIKGPIDVNTPITNHRTALIQNYSTKPKLTYQTVFG...</td>\n",
       "    </tr>\n",
       "    <tr>\n",
       "      <th>0</th>\n",
       "      <td>MIKVRFAPSPTGYIHIGNIRIALFNWLYAQAHNGTFILRYDNTDVE...</td>\n",
       "    </tr>\n",
       "  </tbody>\n",
       "</table>\n",
       "<p>2011 rows × 1 columns</p>\n",
       "</div>"
      ],
      "text/plain": [
       "                                             Sequence\n",
       "1   MKKTLIALSVSAAAMATGVNAAELYNQDGTSLEMGGRAEARLSMKD...\n",
       "0   MRIGVYVCHCGLNIAGVIDVSALEEMAGELEDVVLAREVQFLCSDS...\n",
       "1   MELKNKKLSLWEAVSMAVGVMIGASIFSIFGVGAKIAGRNLPETFI...\n",
       "0   MHLPSLSVALALVSSSLALPQAVLPENDVSSRAAAVKEAFSHAWDG...\n",
       "0   MEELVGLREGFSGDPVTLQELWGPCPHIRRAIQGGLEWLKQKVFRL...\n",
       "..                                                ...\n",
       "0   MKIKDALIKAYSVLKETNDEFYMEDSQILLSYVLKKDRIFLITNRE...\n",
       "1   MSIATIVPENAVIGQAVNIRSMETDIVSLDDRLLQAFSGSAIATAV...\n",
       "1   MTAYIQRSQCISTSLLVVLTTLVSCQIPRDRLSNIGVIVDEGKSLK...\n",
       "1   MTEASEINLSDIKGPIDVNTPITNHRTALIQNYSTKPKLTYQTVFG...\n",
       "0   MIKVRFAPSPTGYIHIGNIRIALFNWLYAQAHNGTFILRYDNTDVE...\n",
       "\n",
       "[2011 rows x 1 columns]"
      ]
     },
     "execution_count": 3,
     "metadata": {},
     "output_type": "execute_result"
    }
   ],
   "source": [
    "# importar o dataset\n",
    "\n",
    "dataset = 'C:/Users/Asus/si/datasets/transporters.csv'\n",
    "\n",
    "# ler dataset com read csv\n",
    "\n",
    "data = read_csv(dataset, sep=\",\", label=True, features=True)\n",
    "data.print_dataframe()"
   ]
  },
  {
   "cell_type": "code",
   "execution_count": null,
   "metadata": {},
   "outputs": [],
   "source": []
  },
  {
   "cell_type": "code",
   "execution_count": null,
   "metadata": {},
   "outputs": [],
   "source": []
  },
  {
   "cell_type": "code",
   "execution_count": null,
   "metadata": {},
   "outputs": [],
   "source": []
  },
  {
   "cell_type": "code",
   "execution_count": null,
   "metadata": {},
   "outputs": [],
   "source": []
  }
 ],
 "metadata": {
  "kernelspec": {
   "display_name": "venv",
   "language": "python",
   "name": "python3"
  },
  "language_info": {
   "codemirror_mode": {
    "name": "ipython",
    "version": 3
   },
   "file_extension": ".py",
   "mimetype": "text/x-python",
   "name": "python",
   "nbconvert_exporter": "python",
   "pygments_lexer": "ipython3",
   "version": "3.9.13 (tags/v3.9.13:6de2ca5, May 17 2022, 16:36:42) [MSC v.1929 64 bit (AMD64)]"
  },
  "orig_nbformat": 4,
  "vscode": {
   "interpreter": {
    "hash": "41098bb4255a0d96180db30b4e8f76749d2bb93b16df9b2dc105d6080650b992"
   }
  }
 },
 "nbformat": 4,
 "nbformat_minor": 2
}
