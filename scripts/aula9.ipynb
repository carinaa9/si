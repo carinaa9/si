{
 "cells": [
  {
   "cell_type": "code",
   "execution_count": 1,
   "metadata": {},
   "outputs": [],
   "source": [
    "# -*- coding: utf-8 -*-"
   ]
  },
  {
   "attachments": {},
   "cell_type": "markdown",
   "metadata": {},
   "source": [
    "## Aula 9\n",
    "\n"
   ]
  },
  {
   "attachments": {},
   "cell_type": "markdown",
   "metadata": {},
   "source": [
    "10.3) Constrói um modelo de redes neuronais considerando a seguinte topologia:\n",
    "- O dataset de treino contém 32 features\n",
    "- O problema é do tipo binário\n",
    "- O modelo deve conter 3 Dense layers\n",
    "\n",
    "• Dense layer de input\n",
    "• Dense layer com redução do número de neurónios ( units ) para metade\n",
    "• Dense layer final (output)\n",
    "- Usa a SigmoidActivation como layer de ativação\n"
   ]
  },
  {
   "cell_type": "code",
   "execution_count": 2,
   "metadata": {},
   "outputs": [],
   "source": [
    "import numpy as np\n",
    "import os\n",
    "import sys\n",
    "sys.path.insert(0, os.path.abspath(os.path.join(os.path.dirname('C:/Users/Asus/si/src/si'), '..')))\n",
    "\n",
    "from src.si.data.dataset import Dataset\n",
    "from src.si.neural_networks.layer import Dense, SigmoidActivation\n",
    "from src.si.neural_networks.nn import NN\n",
    "from src.si.neural_networks.soft_max_activation import SoftMaxActivation\n",
    "from src.si.neural_networks.re_lu_activation import ReLuActivation\n"
   ]
  },
  {
   "cell_type": "code",
   "execution_count": 13,
   "metadata": {},
   "outputs": [
    {
     "data": {
      "text/plain": [
       "<src.si.neural_networks.nn.NN at 0x19c6d1be670>"
      ]
     },
     "execution_count": 13,
     "metadata": {},
     "output_type": "execute_result"
    }
   ],
   "source": [
    "# tem de ter 3 Dense layers\n",
    "\n",
    "#treino com 32 features:\n",
    "#layer 1 com 32(Dense layer de input)\n",
    "layer1 = Dense(input_size = 32, output_size=32)\n",
    "\n",
    "#layer 2 com 32 e depois metade (Dense layer com redução do nº de neuronios(units) para metade)\n",
    "layer2 = Dense(input_size = 32, output_size=16)\n",
    "\n",
    "# layer 3 com metade e 1 (Dense layer final - output 1)\n",
    "layer3 = Dense(input_size = 16, output_size=1)\n",
    "\n",
    "#SigmoidActivation como layer de ativação\n",
    "\n",
    "sigm1 = SigmoidActivation()\n",
    "sigm2 = SigmoidActivation()\n",
    "sigm3 = SigmoidActivation()\n",
    "\n",
    "modelo_nn_binario = NN(layers = [layer1 , sigm1, \n",
    "                                layer2, sigm2, \n",
    "                                layer3, sigm3])\n",
    "\n",
    "modelo_nn_binario"
   ]
  },
  {
   "attachments": {},
   "cell_type": "markdown",
   "metadata": {},
   "source": [
    "10.4) Constrói um modelo de redes neuronais considerando a seguinte topologia:\n",
    "- O dataset de treino contém 32 features\n",
    "- O problema é do tipo multiclass com 3 classes\n",
    "- O modelo deve conter 3 Dense layers\n",
    "\n",
    "• Dense layer de input\n",
    "• Dense layer com redução do número de neurónios ( units ) para metade\n",
    "• Dense layer final (output)\n",
    "- Usa a SigmoidActivation como layer de ativação\n",
    "- Usa a SoftMaxActivation como última layer de ativação"
   ]
  },
  {
   "cell_type": "code",
   "execution_count": 14,
   "metadata": {},
   "outputs": [
    {
     "data": {
      "text/plain": [
       "<src.si.neural_networks.nn.NN at 0x19c6d5b6280>"
      ]
     },
     "execution_count": 14,
     "metadata": {},
     "output_type": "execute_result"
    }
   ],
   "source": [
    "# tem de ter 3 Dense layers\n",
    "\n",
    "#treino com 32 features:\n",
    "#layer 1 com 32(Dense layer de input)\n",
    "layer_1 = Dense(input_size = 32, output_size=32)\n",
    "\n",
    "#layer 2 com 32 e depois metade (Dense layer com redução do nº de neuronios(units) para metade)\n",
    "layer_2 = Dense(input_size = 32, output_size=16)\n",
    "\n",
    "# layer 3 com metade e 1 (Dense layer final - output 1)\n",
    "layer_3 = Dense(input_size = 16, output_size=1)\n",
    "\n",
    "#SigmoidActivation como layer de ativação\n",
    "#Softmax como última layer de ativação\n",
    "\n",
    "sigm_1 = SigmoidActivation()\n",
    "sigm_2 = SigmoidActivation()\n",
    "sigm_3 = SoftMaxActivation()\n",
    "\n",
    "modelo_nn_multiclass = NN(layers = [layer_1 , sigm_1, \n",
    "                                layer_2, sigm_2, \n",
    "                                layer_3, sigm_3])\n",
    "\n",
    "modelo_nn_multiclass"
   ]
  },
  {
   "attachments": {},
   "cell_type": "markdown",
   "metadata": {},
   "source": [
    "10.5) Constrói um modelo de redes neuronais considerando a seguinte topologia:\n",
    "- O dataset de treino contém 32 features\n",
    "- O problema é do tipo regressão\n",
    "- O modelo deve conter 3 Dense layers\n",
    "\n",
    "• Dense layer de input\n",
    "• Dense layer com redução do número de neurónios ( units ) para metade\n",
    "• Dense layer final (output)\n",
    "- Usa a ReLU como layer de ativação\n",
    "- Considera que o modelo deve acabar com uma ativação linear"
   ]
  },
  {
   "cell_type": "code",
   "execution_count": 15,
   "metadata": {},
   "outputs": [
    {
     "data": {
      "text/plain": [
       "<src.si.neural_networks.nn.NN at 0x19c6d1be7c0>"
      ]
     },
     "execution_count": 15,
     "metadata": {},
     "output_type": "execute_result"
    }
   ],
   "source": [
    "# tem de ter 3 Dense layers\n",
    "\n",
    "#treino com 32 features:\n",
    "#layer 1 com 32(Dense layer de input)\n",
    "_layer_1 = Dense(input_size = 32, output_size=32)\n",
    "\n",
    "#layer 2 com 32 e depois metade (Dense layer com redução do nº de neuronios(units) para metade)\n",
    "_layer_2 = Dense(input_size = 32, output_size=16)\n",
    "\n",
    "# layer 3 com metade e 1 (Dense layer final - output 1)\n",
    "_layer_3 = Dense(input_size = 16, output_size=1)\n",
    "\n",
    "#SigmoidActivation como layer de ativação\n",
    "\n",
    "#Considera que o modelo deve acabar com uma ativação linear - nao tem 3 layer de ativação, acaba com a 2 e depois layer dense 3\n",
    "\n",
    "relu_1 = ReLuActivation()\n",
    "relu_2 = ReLuActivation()\n",
    "relu_3 = ReLuActivation()\n",
    "\n",
    "modelo_nn_regressao = NN(layers = [_layer_1 , relu_1, \n",
    "                                _layer_2, relu_2, \n",
    "                                _layer_3])\n",
    "\n",
    "modelo_nn_regressao"
   ]
  },
  {
   "cell_type": "code",
   "execution_count": null,
   "metadata": {},
   "outputs": [],
   "source": []
  }
 ],
 "metadata": {
  "kernelspec": {
   "display_name": "venv",
   "language": "python",
   "name": "python3"
  },
  "language_info": {
   "codemirror_mode": {
    "name": "ipython",
    "version": 3
   },
   "file_extension": ".py",
   "mimetype": "text/x-python",
   "name": "python",
   "nbconvert_exporter": "python",
   "pygments_lexer": "ipython3",
   "version": "3.9.13"
  },
  "orig_nbformat": 4,
  "vscode": {
   "interpreter": {
    "hash": "41098bb4255a0d96180db30b4e8f76749d2bb93b16df9b2dc105d6080650b992"
   }
  }
 },
 "nbformat": 4,
 "nbformat_minor": 2
}
