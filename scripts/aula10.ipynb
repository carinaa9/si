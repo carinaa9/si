{
 "cells": [
  {
   "cell_type": "code",
   "execution_count": null,
   "metadata": {},
   "outputs": [],
   "source": [
    "# -*- coding: utf-8 -*-"
   ]
  },
  {
   "attachments": {},
   "cell_type": "markdown",
   "metadata": {},
   "source": [
    "## Aula 10\n",
    "\n",
    "Testar cross_entropy"
   ]
  },
  {
   "cell_type": "code",
   "execution_count": null,
   "metadata": {},
   "outputs": [],
   "source": [
    "import numpy as np\n",
    "import os\n",
    "import sys\n",
    "sys.path.insert(0, os.path.abspath(os.path.join(os.path.dirname('C:/Users/Asus/si/src/si'), '..')))\n",
    "\n",
    "from src.si.io.csv import read_csv\n",
    "from src.si.neighbors.knn_regressor import KNNRegressor\n",
    "from src.si.model_selection.split import train_test_split\n"
   ]
  },
  {
   "cell_type": "code",
   "execution_count": null,
   "metadata": {},
   "outputs": [],
   "source": [
    "# importar o dataset\n",
    "\n",
    "dataset = 'C:/Users/Asus/si/datasets/tfbs.csv'\n",
    "\n",
    "# ler dataset com read csv\n",
    "\n",
    "data = read_csv(dataset, sep=\",\", label=True, features=True)\n",
    "data.print_dataframe()"
   ]
  },
  {
   "cell_type": "code",
   "execution_count": null,
   "metadata": {},
   "outputs": [],
   "source": []
  }
 ],
 "metadata": {
  "kernelspec": {
   "display_name": "venv",
   "language": "python",
   "name": "python3"
  },
  "language_info": {
   "name": "python",
   "version": "3.9.13 (tags/v3.9.13:6de2ca5, May 17 2022, 16:36:42) [MSC v.1929 64 bit (AMD64)]"
  },
  "orig_nbformat": 4,
  "vscode": {
   "interpreter": {
    "hash": "41098bb4255a0d96180db30b4e8f76749d2bb93b16df9b2dc105d6080650b992"
   }
  }
 },
 "nbformat": 4,
 "nbformat_minor": 2
}
